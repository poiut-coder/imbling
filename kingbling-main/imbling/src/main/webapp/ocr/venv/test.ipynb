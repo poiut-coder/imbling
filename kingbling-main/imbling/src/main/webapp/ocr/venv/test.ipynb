{
 "cells": [
  {
   "cell_type": "code",
   "execution_count": 5,
   "metadata": {},
   "outputs": [
    {
     "ename": "ModuleNotFoundError",
     "evalue": "No module named 'matplotlib'",
     "output_type": "error",
     "traceback": [
      "\u001b[0;31m---------------------------------------------------------------------------\u001b[0m",
      "\u001b[0;31mModuleNotFoundError\u001b[0m                       Traceback (most recent call last)",
      "Cell \u001b[0;32mIn[5], line 1\u001b[0m\n\u001b[0;32m----> 1\u001b[0m \u001b[39mimport\u001b[39;00m \u001b[39mmatplotlib\u001b[39;00m\u001b[39m.\u001b[39;00m\u001b[39mpyplot\u001b[39;00m \u001b[39mas\u001b[39;00m \u001b[39mplt\u001b[39;00m\n\u001b[1;32m      2\u001b[0m \u001b[39mimport\u001b[39;00m \u001b[39mpytesseract\u001b[39;00m\n",
      "\u001b[0;31mModuleNotFoundError\u001b[0m: No module named 'matplotlib'"
     ]
    }
   ],
   "source": [
    "\n",
    "import matplotlib.pyplot as plt\n",
    "import pytesseract\n",
    "\n",
    "\n"
   ]
  },
  {
   "cell_type": "code",
   "execution_count": 9,
   "metadata": {},
   "outputs": [
    {
     "ename": "NameError",
     "evalue": "name 'pytesseract' is not defined",
     "output_type": "error",
     "traceback": [
      "\u001b[0;31m---------------------------------------------------------------------------\u001b[0m",
      "\u001b[0;31mNameError\u001b[0m                                 Traceback (most recent call last)",
      "Cell \u001b[0;32mIn[9], line 1\u001b[0m\n\u001b[0;32m----> 1\u001b[0m pytesseract\u001b[39m.\u001b[39mpytesseract\u001b[39m.\u001b[39mtesseract_cmd\u001b[39m=\u001b[39m\u001b[39mr\u001b[39m\u001b[39m'\u001b[39m\u001b[39m/usr/local/Cellar/tesseract/5.3.0/bin/tesseract\u001b[39m\u001b[39m'\u001b[39m\n\u001b[1;32m      3\u001b[0m message\u001b[39m=\u001b[39mpytesseract\u001b[39m.\u001b[39mimage_to_string(Image\u001b[39m.\u001b[39mopen(\u001b[39m\"\u001b[39m\u001b[39maccount-attachments/사업자등록증(산림조합).jpg\u001b[39m\u001b[39m\"\u001b[39m),lang\u001b[39m=\u001b[39m\u001b[39m\"\u001b[39m\u001b[39mkor\u001b[39m\u001b[39m\"\u001b[39m)\n\u001b[1;32m      4\u001b[0m message\u001b[39m=\u001b[39mmessage\u001b[39m.\u001b[39msplit()\n",
      "\u001b[0;31mNameError\u001b[0m: name 'pytesseract' is not defined"
     ]
    }
   ],
   "source": [
    "pytesseract.pytesseract.tesseract_cmd=r'/usr/local/Cellar/tesseract/5.3.0/bin/tesseract'\n",
    "\n",
    "message=pytesseract.image_to_string(Image.open(\"account-attachments/사업자등록증(산림조합).jpg\"),lang=\"kor\")\n",
    "message=message.split()\n",
    "\n",
    "for v in message:\n",
    "    if len(v)==12 and v[3]==\"-\" and v[6]==\"-\" and v[:2].isdigit()==True and v[-5:].isdigit()==True and v[4:6].isdigit()==True:\n",
    "        print(v)\n",
    "        print(v[-5:])"
   ]
  },
  {
   "cell_type": "code",
   "execution_count": 61,
   "metadata": {},
   "outputs": [
    {
     "name": "stdout",
     "output_type": "stream",
     "text": [
      "rescode\n",
      "b'{\"resultCode\":0,\"resultMsg\":\"NORMAL SERVICE.\",\"totalCount\":1,\"items\":[{\"company\":\"\\\\uC8FC\\\\uC2DD\\\\uD68C\\\\uC0AC \\\\uB9AC\\\\uADF8\\\\uB77C\\\\uC6B4\\\\uB4DC\",\"bno\":\"104-86-53569\",\"cno\":\"110111-5337765\",\"bsttcd\":\"\",\"bstt\":\"\",\"TaxTypeCd\":\"\",\"taxtype\":\"\",\"EndDt\":\"\"}]}'\n",
      "rescode\n",
      "{\"resultCode\":0,\"resultMsg\":\"NORMAL SERVICE.\",\"totalCount\":1,\"items\":[{\"company\":\"\\uC8FC\\uC2DD\\uD68C\\uC0AC \\uB9AC\\uADF8\\uB77C\\uC6B4\\uB4DC\",\"bno\":\"104-86-53569\",\"cno\":\"110111-5337765\",\"bsttcd\":\"\",\"bstt\":\"\",\"TaxTypeCd\":\"\",\"taxtype\":\"\",\"EndDt\":\"\"}]}\n"
     ]
    },
    {
     "ename": "AttributeError",
     "evalue": "'str' object has no attribute 'read'",
     "output_type": "error",
     "traceback": [
      "\u001b[0;31m---------------------------------------------------------------------------\u001b[0m",
      "\u001b[0;31mAttributeError\u001b[0m                            Traceback (most recent call last)",
      "Cell \u001b[0;32mIn[61], line 20\u001b[0m\n\u001b[1;32m     17\u001b[0m     \u001b[39mprint\u001b[39m(\u001b[39m\"\u001b[39m\u001b[39mrescode\u001b[39m\u001b[39m\"\u001b[39m)\n\u001b[1;32m     19\u001b[0m     \u001b[39mprint\u001b[39m(response_body\u001b[39m.\u001b[39mdecode(\u001b[39m'\u001b[39m\u001b[39mutf-8\u001b[39m\u001b[39m'\u001b[39m))\n\u001b[0;32m---> 20\u001b[0m     data \u001b[39m=\u001b[39m json\u001b[39m.\u001b[39;49mload(response_body\u001b[39m.\u001b[39;49mdecode(\u001b[39m'\u001b[39;49m\u001b[39mutf-8\u001b[39;49m\u001b[39m'\u001b[39;49m))\n\u001b[1;32m     23\u001b[0m \u001b[39melse\u001b[39;00m:\n\u001b[1;32m     24\u001b[0m     \u001b[39mprint\u001b[39m(\u001b[39m\"\u001b[39m\u001b[39mError Code:\u001b[39m\u001b[39m\"\u001b[39m \u001b[39m+\u001b[39m rescode)\n",
      "File \u001b[0;32m/Library/Developer/CommandLineTools/Library/Frameworks/Python3.framework/Versions/3.9/lib/python3.9/json/__init__.py:293\u001b[0m, in \u001b[0;36mload\u001b[0;34m(fp, cls, object_hook, parse_float, parse_int, parse_constant, object_pairs_hook, **kw)\u001b[0m\n\u001b[1;32m    274\u001b[0m \u001b[39mdef\u001b[39;00m \u001b[39mload\u001b[39m(fp, \u001b[39m*\u001b[39m, \u001b[39mcls\u001b[39m\u001b[39m=\u001b[39m\u001b[39mNone\u001b[39;00m, object_hook\u001b[39m=\u001b[39m\u001b[39mNone\u001b[39;00m, parse_float\u001b[39m=\u001b[39m\u001b[39mNone\u001b[39;00m,\n\u001b[1;32m    275\u001b[0m         parse_int\u001b[39m=\u001b[39m\u001b[39mNone\u001b[39;00m, parse_constant\u001b[39m=\u001b[39m\u001b[39mNone\u001b[39;00m, object_pairs_hook\u001b[39m=\u001b[39m\u001b[39mNone\u001b[39;00m, \u001b[39m*\u001b[39m\u001b[39m*\u001b[39mkw):\n\u001b[1;32m    276\u001b[0m     \u001b[39m\"\"\"Deserialize ``fp`` (a ``.read()``-supporting file-like object containing\u001b[39;00m\n\u001b[1;32m    277\u001b[0m \u001b[39m    a JSON document) to a Python object.\u001b[39;00m\n\u001b[1;32m    278\u001b[0m \n\u001b[0;32m   (...)\u001b[0m\n\u001b[1;32m    291\u001b[0m \u001b[39m    kwarg; otherwise ``JSONDecoder`` is used.\u001b[39;00m\n\u001b[1;32m    292\u001b[0m \u001b[39m    \"\"\"\u001b[39;00m\n\u001b[0;32m--> 293\u001b[0m     \u001b[39mreturn\u001b[39;00m loads(fp\u001b[39m.\u001b[39;49mread(),\n\u001b[1;32m    294\u001b[0m         \u001b[39mcls\u001b[39m\u001b[39m=\u001b[39m\u001b[39mcls\u001b[39m, object_hook\u001b[39m=\u001b[39mobject_hook,\n\u001b[1;32m    295\u001b[0m         parse_float\u001b[39m=\u001b[39mparse_float, parse_int\u001b[39m=\u001b[39mparse_int,\n\u001b[1;32m    296\u001b[0m         parse_constant\u001b[39m=\u001b[39mparse_constant, object_pairs_hook\u001b[39m=\u001b[39mobject_pairs_hook, \u001b[39m*\u001b[39m\u001b[39m*\u001b[39mkw)\n",
      "\u001b[0;31mAttributeError\u001b[0m: 'str' object has no attribute 'read'"
     ]
    }
   ],
   "source": [
    "\n",
    "import urllib.request\n",
    "\n",
    "import json\n",
    "\n",
    "url = \"https://bizno.net/api/fapi?key=a2lqdTI5MTJAbmF2ZXIuY29t&gb=1&q=104-86-53569&type=json\"  # JSON 결과\n",
    "\n",
    "request = urllib.request.Request(url)\n",
    "\n",
    "response = urllib.request.urlopen(request)\n",
    "rescode = response.getcode()\n",
    "if(rescode==200):\n",
    "    response_body = response.read()\n",
    "    jsonFile=response_body.decode('utf-8')\n",
    "    print(\"rescode\")\n",
    "\n",
    "    print(response_body)\n",
    "    print(\"rescode\")\n",
    "\n",
    "    print(response_body.decode('utf-8'))\n",
    "    \n",
    "    \n",
    "else:\n",
    "    print(\"Error Code:\" + rescode)\n",
    "\n",
    "\n",
    "\n",
    "    "
   ]
  },
  {
   "cell_type": "code",
   "execution_count": 74,
   "metadata": {},
   "outputs": [
    {
     "ename": "AttributeError",
     "evalue": "module 'urllib' has no attribute 'requests'",
     "output_type": "error",
     "traceback": [
      "\u001b[0;31m---------------------------------------------------------------------------\u001b[0m",
      "\u001b[0;31mAttributeError\u001b[0m                            Traceback (most recent call last)",
      "Cell \u001b[0;32mIn[74], line 9\u001b[0m\n\u001b[1;32m      6\u001b[0m url \u001b[39m=\u001b[39m \u001b[39m\"\u001b[39m\u001b[39mhttps://bizno.net/api/fapi?key=a2lqdTI5MTJAbmF2ZXIuY29t&gb=1&q=104-86-53569&type=json\u001b[39m\u001b[39m\"\u001b[39m  \u001b[39m# JSON 결과\u001b[39;00m\n\u001b[1;32m      8\u001b[0m \u001b[39m# url 불러오기\u001b[39;00m\n\u001b[0;32m----> 9\u001b[0m response \u001b[39m=\u001b[39m urllib\u001b[39m.\u001b[39;49mrequests\u001b[39m.\u001b[39mget(url)\n\u001b[1;32m     11\u001b[0m \u001b[39m#데이터 값 출력해보기\u001b[39;00m\n\u001b[1;32m     12\u001b[0m contents \u001b[39m=\u001b[39m response\u001b[39m.\u001b[39mtext\n",
      "\u001b[0;31mAttributeError\u001b[0m: module 'urllib' has no attribute 'requests'"
     ]
    }
   ],
   "source": []
  },
  {
   "cell_type": "code",
   "execution_count": 81,
   "metadata": {},
   "outputs": [
    {
     "name": "stdout",
     "output_type": "stream",
     "text": [
      "[{'company': '주식회사 리그라운드', 'bno': '104-86-53569', 'cno': '110111-5337765', 'bsttcd': '', 'bstt': '', 'TaxTypeCd': '', 'taxtype': '', 'EndDt': ''}]\n"
     ]
    }
   ],
   "source": [
    "import json\n",
    "import urllib.request\n",
    "import urllib.parse\n",
    "url = \"https://bizno.net/api/fapi?key=a2lqdTI5MTJAbmF2ZXIuY29t&gb=1&q=104-86-53569&type=json\"  # JSON 결과\n",
    "\n",
    "\n",
    "with open('test.txt', 'w') as json_file:\n",
    "    with urllib.request.urlopen(url) as f:\n",
    "        # print(f.read().decode('utf-8'))\n",
    "        json_file.write(f.read().decode('utf-8'))\n",
    "\n",
    "with open('test.txt') as json_file:\n",
    "    data = json.load(json_file)\n",
    "print(data['items'])"
   ]
  },
  {
   "cell_type": "code",
   "execution_count": 90,
   "metadata": {},
   "outputs": [
    {
     "name": "stdout",
     "output_type": "stream",
     "text": [
      "주식회사 리그라운드\n"
     ]
    }
   ],
   "source": [
    "\n",
    "from urllib.request import urlopen\n",
    "  \n",
    "import json\n",
    "\n",
    "url = \"https://bizno.net/api/fapi?key=a2lqdTI5MTJAbmF2ZXIuY29t&gb=1&q=104-86-53569&type=json\"  # JSON 결과\n",
    "  \n",
    "response = urlopen(url)\n",
    "  \n",
    "data_json = json.loads(response.read())\n",
    "  \n",
    "# ㅇ이름\n",
    "print(data_json['items'][0]['company'])"
   ]
  },
  {
   "cell_type": "markdown",
   "metadata": {},
   "source": []
  },
  {
   "cell_type": "code",
   "execution_count": 4,
   "metadata": {},
   "outputs": [
    {
     "ename": "ModuleNotFoundError",
     "evalue": "No module named 'easyocr'",
     "output_type": "error",
     "traceback": [
      "\u001b[0;31m---------------------------------------------------------------------------\u001b[0m",
      "\u001b[0;31mModuleNotFoundError\u001b[0m                       Traceback (most recent call last)",
      "Cell \u001b[0;32mIn[4], line 1\u001b[0m\n\u001b[0;32m----> 1\u001b[0m \u001b[39mimport\u001b[39;00m \u001b[39measyocr\u001b[39;00m\n\u001b[1;32m      3\u001b[0m reader \u001b[39m=\u001b[39m easyocr\u001b[39m.\u001b[39mReader([\u001b[39m'\u001b[39m\u001b[39mko\u001b[39m\u001b[39m'\u001b[39m]) \u001b[39m# 'en': 영어로 설정\u001b[39;00m\n\u001b[1;32m      4\u001b[0m result \u001b[39m=\u001b[39m reader\u001b[39m.\u001b[39mreadtext(\u001b[39m'\u001b[39m\u001b[39maccount-attachments/test.png\u001b[39m\u001b[39m'\u001b[39m) \n",
      "\u001b[0;31mModuleNotFoundError\u001b[0m: No module named 'easyocr'"
     ]
    }
   ],
   "source": [
    "import easyocr\n",
    "\n",
    "reader = easyocr.Reader(['ko']) # 'en': 영어로 설정\n",
    "result = reader.readtext('account-attachments/test.png') \n",
    "print(result)"
   ]
  }
 ],
 "metadata": {
  "kernelspec": {
   "display_name": "Python 3.9.6 64-bit",
   "language": "python",
   "name": "python3"
  },
  "language_info": {
   "codemirror_mode": {
    "name": "ipython",
    "version": 3
   },
   "file_extension": ".py",
   "mimetype": "text/x-python",
   "name": "python",
   "nbconvert_exporter": "python",
   "pygments_lexer": "ipython3",
   "version": "3.9.6"
  },
  "orig_nbformat": 4,
  "vscode": {
   "interpreter": {
    "hash": "31f2aee4e71d21fbe5cf8b01ff0e069b9275f58929596ceb00d14d90e3e16cd6"
   }
  }
 },
 "nbformat": 4,
 "nbformat_minor": 2
}
